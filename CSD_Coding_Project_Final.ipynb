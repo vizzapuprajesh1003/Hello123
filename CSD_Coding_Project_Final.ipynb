{
  "cells": [
    {
      "cell_type": "markdown",
      "id": "7da711e0",
      "metadata": {
        "id": "7da711e0"
      },
      "source": [
        "## 1.ML Vs DL model comparision analysis on CIFAR10 dataset from Keras\n",
        "## 2.Image Classification on CIFAR10 dataset from Keras"
      ]
    },
    {
      "cell_type": "code",
      "source": [
        "import tensorflow as tf\n",
        "device_name = tf.test.gpu_device_name()\n",
        "if device_name != '/device:GPU:0':\n",
        "  raise SystemError('GPU device not found')\n",
        "print('Found GPU at: {}'.format(device_name))"
      ],
      "metadata": {
        "colab": {
          "base_uri": "https://localhost:8080/"
        },
        "id": "Z-0H5nqAynW2",
        "outputId": "05080893-1432-482f-92f7-651ee0dce909"
      },
      "id": "Z-0H5nqAynW2",
      "execution_count": 1,
      "outputs": [
        {
          "output_type": "stream",
          "name": "stdout",
          "text": [
            "Found GPU at: /device:GPU:0\n"
          ]
        }
      ]
    },
    {
      "cell_type": "markdown",
      "source": [
        "### Importing essential modules"
      ],
      "metadata": {
        "id": "61WGM_BzGHfV"
      },
      "id": "61WGM_BzGHfV"
    },
    {
      "cell_type": "code",
      "execution_count": 2,
      "id": "78bd8c4b",
      "metadata": {
        "id": "78bd8c4b"
      },
      "outputs": [],
      "source": [
        "import tensorflow as tf\n",
        "from tensorflow.keras import datasets,layers,models\n",
        "import matplotlib.pyplot as plt\n",
        "import numpy as np\n",
        "import pandas as pd\n",
        "import seaborn as sn"
      ]
    },
    {
      "cell_type": "markdown",
      "source": [
        "### Loading the dataset"
      ],
      "metadata": {
        "id": "2GkP5p24GOVl"
      },
      "id": "2GkP5p24GOVl"
    },
    {
      "cell_type": "code",
      "execution_count": 3,
      "id": "de9058b1",
      "metadata": {
        "colab": {
          "base_uri": "https://localhost:8080/"
        },
        "id": "de9058b1",
        "outputId": "a4f7de7b-bcd2-42e1-e6c5-b8e1002d7976"
      },
      "outputs": [
        {
          "output_type": "stream",
          "name": "stdout",
          "text": [
            "Downloading data from https://www.cs.toronto.edu/~kriz/cifar-10-python.tar.gz\n",
            "170498071/170498071 [==============================] - 6s 0us/step\n"
          ]
        },
        {
          "output_type": "execute_result",
          "data": {
            "text/plain": [
              "(50000, 32, 32, 3)"
            ]
          },
          "metadata": {},
          "execution_count": 3
        }
      ],
      "source": [
        "(x_train,y_train),(x_test,y_test)=datasets.cifar10.load_data()\n",
        "x_train.shape"
      ]
    },
    {
      "cell_type": "markdown",
      "source": [
        "### Exploratory Data Analysis"
      ],
      "metadata": {
        "id": "AnMAIYkPGTcK"
      },
      "id": "AnMAIYkPGTcK"
    },
    {
      "cell_type": "code",
      "execution_count": 4,
      "id": "0357b016",
      "metadata": {
        "colab": {
          "base_uri": "https://localhost:8080/"
        },
        "id": "0357b016",
        "outputId": "885676d5-1091-4c6a-e43e-b60f0009ec01"
      },
      "outputs": [
        {
          "output_type": "execute_result",
          "data": {
            "text/plain": [
              "(10000, 32, 32, 3)"
            ]
          },
          "metadata": {},
          "execution_count": 4
        }
      ],
      "source": [
        "x_test.shape"
      ]
    },
    {
      "cell_type": "code",
      "execution_count": 5,
      "id": "a7c5bba9",
      "metadata": {
        "colab": {
          "base_uri": "https://localhost:8080/"
        },
        "id": "a7c5bba9",
        "outputId": "287250f2-25c0-41f5-97bd-dac3a221fd61"
      },
      "outputs": [
        {
          "output_type": "execute_result",
          "data": {
            "text/plain": [
              "array([[[ 59,  62,  63],\n",
              "        [ 43,  46,  45],\n",
              "        [ 50,  48,  43],\n",
              "        ...,\n",
              "        [158, 132, 108],\n",
              "        [152, 125, 102],\n",
              "        [148, 124, 103]],\n",
              "\n",
              "       [[ 16,  20,  20],\n",
              "        [  0,   0,   0],\n",
              "        [ 18,   8,   0],\n",
              "        ...,\n",
              "        [123,  88,  55],\n",
              "        [119,  83,  50],\n",
              "        [122,  87,  57]],\n",
              "\n",
              "       [[ 25,  24,  21],\n",
              "        [ 16,   7,   0],\n",
              "        [ 49,  27,   8],\n",
              "        ...,\n",
              "        [118,  84,  50],\n",
              "        [120,  84,  50],\n",
              "        [109,  73,  42]],\n",
              "\n",
              "       ...,\n",
              "\n",
              "       [[208, 170,  96],\n",
              "        [201, 153,  34],\n",
              "        [198, 161,  26],\n",
              "        ...,\n",
              "        [160, 133,  70],\n",
              "        [ 56,  31,   7],\n",
              "        [ 53,  34,  20]],\n",
              "\n",
              "       [[180, 139,  96],\n",
              "        [173, 123,  42],\n",
              "        [186, 144,  30],\n",
              "        ...,\n",
              "        [184, 148,  94],\n",
              "        [ 97,  62,  34],\n",
              "        [ 83,  53,  34]],\n",
              "\n",
              "       [[177, 144, 116],\n",
              "        [168, 129,  94],\n",
              "        [179, 142,  87],\n",
              "        ...,\n",
              "        [216, 184, 140],\n",
              "        [151, 118,  84],\n",
              "        [123,  92,  72]]], dtype=uint8)"
            ]
          },
          "metadata": {},
          "execution_count": 5
        }
      ],
      "source": [
        "x_train[0]"
      ]
    },
    {
      "cell_type": "code",
      "execution_count": 6,
      "id": "362ce7c1",
      "metadata": {
        "colab": {
          "base_uri": "https://localhost:8080/"
        },
        "id": "362ce7c1",
        "outputId": "143dcbda-203b-4fe6-ed8e-886196dc9191"
      },
      "outputs": [
        {
          "output_type": "execute_result",
          "data": {
            "text/plain": [
              "(50000, 1)"
            ]
          },
          "metadata": {},
          "execution_count": 6
        }
      ],
      "source": [
        "y_train.shape"
      ]
    },
    {
      "cell_type": "code",
      "execution_count": 7,
      "id": "0313e41f",
      "metadata": {
        "colab": {
          "base_uri": "https://localhost:8080/"
        },
        "id": "0313e41f",
        "outputId": "35e295fb-bc43-42a9-a53e-ba1a6692d99e"
      },
      "outputs": [
        {
          "output_type": "execute_result",
          "data": {
            "text/plain": [
              "array([[6],\n",
              "       [9],\n",
              "       [9],\n",
              "       [4],\n",
              "       [1]], dtype=uint8)"
            ]
          },
          "metadata": {},
          "execution_count": 7
        }
      ],
      "source": [
        "y_train[:5]"
      ]
    },
    {
      "cell_type": "code",
      "execution_count": 8,
      "id": "283f7aa0",
      "metadata": {
        "colab": {
          "base_uri": "https://localhost:8080/"
        },
        "id": "283f7aa0",
        "outputId": "5058f636-22a3-4671-99c3-e075d286e5fc"
      },
      "outputs": [
        {
          "output_type": "execute_result",
          "data": {
            "text/plain": [
              "array([6, 9, 9, 4, 1], dtype=uint8)"
            ]
          },
          "metadata": {},
          "execution_count": 8
        }
      ],
      "source": [
        "y_train=y_train.reshape(-1,)\n",
        "y_train[:5]"
      ]
    },
    {
      "cell_type": "code",
      "execution_count": 9,
      "id": "43831356",
      "metadata": {
        "id": "43831356"
      },
      "outputs": [],
      "source": [
        "classes=['Airplane','Automobile','Bird','Cat','Deer','Dog','Frog','Horse','Ship','Turck']"
      ]
    },
    {
      "cell_type": "code",
      "execution_count": 10,
      "id": "817310e4",
      "metadata": {
        "id": "817310e4"
      },
      "outputs": [],
      "source": [
        "def plot_sample(x,y,index):\n",
        "    plt.imshow(x[index])\n",
        "    plt.xlabel(classes[y[index]])"
      ]
    },
    {
      "cell_type": "code",
      "execution_count": 11,
      "id": "345215f2",
      "metadata": {
        "colab": {
          "base_uri": "https://localhost:8080/",
          "height": 280
        },
        "id": "345215f2",
        "outputId": "f1f231e7-8256-4390-9248-64c9bcc7d3dd"
      },
      "outputs": [
        {
          "output_type": "display_data",
          "data": {
            "text/plain": [
              "<Figure size 432x288 with 1 Axes>"
            ],
            "image/png": "[encoded data removed]"
          },
          "metadata": {
            "needs_background": "light"
          }
        }
      ],
      "source": [
        "plot_sample(x_train,y_train,0)"
      ]
    },
    {
      "cell_type": "markdown",
      "source": [
        "### Prepocessing"
      ],
      "metadata": {
        "id": "dXMGTrlbGf3j"
      },
      "id": "dXMGTrlbGf3j"
    },
    {
      "cell_type": "code",
      "execution_count": 12,
      "id": "219f7bb7",
      "metadata": {
        "colab": {
          "base_uri": "https://localhost:8080/"
        },
        "id": "219f7bb7",
        "outputId": "bf0f6c83-6b83-4023-b876-ed8187935eb6"
      },
      "outputs": [
        {
          "output_type": "stream",
          "name": "stdout",
          "text": [
            "(50000, 1024, 3)\n",
            "(10000, 1024, 3)\n"
          ]
        }
      ],
      "source": [
        "x_train_3D=x_train.reshape(50000,1024,3)\n",
        "x_test_3D=x_test.reshape(10000,1024,3)\n",
        "\n",
        "print(x_train_3D.shape)\n",
        "print(x_test_3D.shape)\n",
        "\n",
        "x_train_3D=x_train_3D/255\n",
        "x_test_3D=x_test_3D/255"
      ]
    },
    {
      "cell_type": "code",
      "execution_count": 13,
      "id": "82c44ce9",
      "metadata": {
        "colab": {
          "base_uri": "https://localhost:8080/"
        },
        "id": "82c44ce9",
        "outputId": "98fc93a1-3572-436a-904a-5f39678d8638"
      },
      "outputs": [
        {
          "output_type": "stream",
          "name": "stdout",
          "text": [
            "(50000, 3072)\n",
            "(10000, 3072)\n"
          ]
        }
      ],
      "source": [
        "x_train_2D=x_train.reshape(50000,3072)\n",
        "x_test_2D=x_test.reshape(10000,3072)\n",
        "print(x_train_2D.shape)\n",
        "print(x_test_2D.shape)"
      ]
    },
    {
      "cell_type": "code",
      "execution_count": 14,
      "id": "761bfde1",
      "metadata": {
        "colab": {
          "base_uri": "https://localhost:8080/"
        },
        "id": "761bfde1",
        "outputId": "1fcae759-c001-493d-eb25-3158cb3ce1b5"
      },
      "outputs": [
        {
          "output_type": "stream",
          "name": "stdout",
          "text": [
            "(50000, 32, 32, 3)\n",
            "(10000, 32, 32, 3)\n"
          ]
        }
      ],
      "source": [
        "x_train=x_train/255\n",
        "x_test=x_test/255\n",
        "print(x_train.shape)\n",
        "print(x_test.shape)"
      ]
    },
    {
      "cell_type": "markdown",
      "source": [
        "### Models Used For Comparitive Analysis:\n",
        "1.   Logistic Regression\n",
        "2.   Random Forests\n",
        "3.   Artificial Neural Network\n",
        "4.   Convolutional Neural Network\n",
        "5.   Long Short Term Memory\n",
        "6.   Gated Recurrent Units\n"
      ],
      "metadata": {
        "id": "8H5g1T7_GodL"
      },
      "id": "8H5g1T7_GodL"
    },
    {
      "cell_type": "markdown",
      "id": "c798ee9f",
      "metadata": {
        "id": "c798ee9f"
      },
      "source": [
        "1. Logistic_Regression"
      ]
    },
    {
      "cell_type": "markdown",
      "source": [
        "A.Model Building & Fitting the Model with data"
      ],
      "metadata": {
        "id": "0T-XEql2IGO9"
      },
      "id": "0T-XEql2IGO9"
    },
    {
      "cell_type": "code",
      "execution_count": 15,
      "id": "88ecf78c",
      "metadata": {
        "id": "88ecf78c",
        "colab": {
          "base_uri": "https://localhost:8080/"
        },
        "outputId": "f92ba4ed-6a84-4e40-e7a4-cd7e348e945c"
      },
      "outputs": [
        {
          "output_type": "stream",
          "name": "stderr",
          "text": [
            "/usr/local/lib/python3.7/dist-packages/sklearn/linear_model/_logistic.py:818: ConvergenceWarning: lbfgs failed to converge (status=1):\n",
            "STOP: TOTAL NO. of ITERATIONS REACHED LIMIT.\n",
            "\n",
            "Increase the number of iterations (max_iter) or scale the data as shown in:\n",
            "    https://scikit-learn.org/stable/modules/preprocessing.html\n",
            "Please also refer to the documentation for alternative solver options:\n",
            "    https://scikit-learn.org/stable/modules/linear_model.html#logistic-regression\n",
            "  extra_warning_msg=_LOGISTIC_SOLVER_CONVERGENCE_MSG,\n"
          ]
        },
        {
          "output_type": "execute_result",
          "data": {
            "text/plain": [
              "LogisticRegression()"
            ]
          },
          "metadata": {},
          "execution_count": 15
        }
      ],
      "source": [
        "from sklearn.linear_model import LogisticRegression\n",
        "LR = LogisticRegression()\n",
        "LR.fit(x_train_2D,y_train)"
      ]
    },
    {
      "cell_type": "markdown",
      "source": [
        "B.Model Evaluation"
      ],
      "metadata": {
        "id": "DAdihv0eIhdj"
      },
      "id": "DAdihv0eIhdj"
    },
    {
      "cell_type": "code",
      "execution_count": 16,
      "id": "b196d693",
      "metadata": {
        "id": "b196d693",
        "colab": {
          "base_uri": "https://localhost:8080/"
        },
        "outputId": "ae783387-24eb-482d-a1df-d8751552b008"
      },
      "outputs": [
        {
          "output_type": "execute_result",
          "data": {
            "text/plain": [
              "0.4024"
            ]
          },
          "metadata": {},
          "execution_count": 16
        }
      ],
      "source": [
        "LR_eval=LR.score(x_test_2D,y_test)\n",
        "LR_eval"
      ]
    },
    {
      "cell_type": "markdown",
      "source": [
        "C.Classification Report"
      ],
      "metadata": {
        "id": "O68-TxNsIp-x"
      },
      "id": "O68-TxNsIp-x"
    },
    {
      "cell_type": "code",
      "execution_count": 17,
      "id": "c5157f5f",
      "metadata": {
        "id": "c5157f5f",
        "colab": {
          "base_uri": "https://localhost:8080/"
        },
        "outputId": "c490dc9e-e862-492d-bc99-22007194aaee"
      },
      "outputs": [
        {
          "output_type": "stream",
          "name": "stdout",
          "text": [
            "Classification Report:\n",
            "               precision    recall  f1-score   support\n",
            "\n",
            "           0       0.10      1.00      0.18      1000\n",
            "           1       0.00      0.00      0.00      1000\n",
            "           2       0.00      0.00      0.00      1000\n",
            "           3       0.00      0.00      0.00      1000\n",
            "           4       0.00      0.00      0.00      1000\n",
            "           5       0.00      0.00      0.00      1000\n",
            "           6       0.00      0.00      0.00      1000\n",
            "           7       0.00      0.00      0.00      1000\n",
            "           8       0.00      0.00      0.00      1000\n",
            "           9       0.00      0.00      0.00      1000\n",
            "\n",
            "    accuracy                           0.10     10000\n",
            "   macro avg       0.01      0.10      0.02     10000\n",
            "weighted avg       0.01      0.10      0.02     10000\n",
            "\n"
          ]
        },
        {
          "output_type": "stream",
          "name": "stderr",
          "text": [
            "/usr/local/lib/python3.7/dist-packages/sklearn/metrics/_classification.py:1318: UndefinedMetricWarning: Precision and F-score are ill-defined and being set to 0.0 in labels with no predicted samples. Use `zero_division` parameter to control this behavior.\n",
            "  _warn_prf(average, modifier, msg_start, len(result))\n",
            "/usr/local/lib/python3.7/dist-packages/sklearn/metrics/_classification.py:1318: UndefinedMetricWarning: Precision and F-score are ill-defined and being set to 0.0 in labels with no predicted samples. Use `zero_division` parameter to control this behavior.\n",
            "  _warn_prf(average, modifier, msg_start, len(result))\n",
            "/usr/local/lib/python3.7/dist-packages/sklearn/metrics/_classification.py:1318: UndefinedMetricWarning: Precision and F-score are ill-defined and being set to 0.0 in labels with no predicted samples. Use `zero_division` parameter to control this behavior.\n",
            "  _warn_prf(average, modifier, msg_start, len(result))\n"
          ]
        }
      ],
      "source": [
        "from sklearn.metrics import classification_report\n",
        "y_pred_LR=LR.predict(x_test_2D)\n",
        "y_pred_classes_LR=[np.argmax(element) for element in y_pred_LR]\n",
        "print('Classification Report:\\n',classification_report(y_test,y_pred_classes_LR))"
      ]
    },
    {
      "cell_type": "markdown",
      "source": [
        "D.Confusion Matrix"
      ],
      "metadata": {
        "id": "PvGEFVf0I6PO"
      },
      "id": "PvGEFVf0I6PO"
    },
    {
      "cell_type": "code",
      "source": [
        "cm=tf.math.confusion_matrix(labels=y_test,predictions=y_pred_classes_LR)\n",
        "cm"
      ],
      "metadata": {
        "id": "4OIAMqFIxk1t",
        "colab": {
          "base_uri": "https://localhost:8080/"
        },
        "outputId": "e900478f-a3b3-4642-ba68-19b877335fa6"
      },
      "id": "4OIAMqFIxk1t",
      "execution_count": 18,
      "outputs": [
        {
          "output_type": "execute_result",
          "data": {
            "text/plain": [
              "<tf.Tensor: shape=(10, 10), dtype=int32, numpy=\n",
              "array([[1000,    0,    0,    0,    0,    0,    0,    0,    0,    0],\n",
              "       [1000,    0,    0,    0,    0,    0,    0,    0,    0,    0],\n",
              "       [1000,    0,    0,    0,    0,    0,    0,    0,    0,    0],\n",
              "       [1000,    0,    0,    0,    0,    0,    0,    0,    0,    0],\n",
              "       [1000,    0,    0,    0,    0,    0,    0,    0,    0,    0],\n",
              "       [1000,    0,    0,    0,    0,    0,    0,    0,    0,    0],\n",
              "       [1000,    0,    0,    0,    0,    0,    0,    0,    0,    0],\n",
              "       [1000,    0,    0,    0,    0,    0,    0,    0,    0,    0],\n",
              "       [1000,    0,    0,    0,    0,    0,    0,    0,    0,    0],\n",
              "       [1000,    0,    0,    0,    0,    0,    0,    0,    0,    0]],\n",
              "      dtype=int32)>"
            ]
          },
          "metadata": {},
          "execution_count": 18
        }
      ]
    },
    {
      "cell_type": "code",
      "execution_count": 19,
      "id": "43f944f6",
      "metadata": {
        "id": "43f944f6",
        "colab": {
          "base_uri": "https://localhost:8080/",
          "height": 463
        },
        "outputId": "0499f019-db53-4d23-dc28-0c3553c527d9"
      },
      "outputs": [
        {
          "output_type": "execute_result",
          "data": {
            "text/plain": [
              "Text(69.0, 0.5, 'Actual')"
            ]
          },
          "metadata": {},
          "execution_count": 19
        },
        {
          "output_type": "display_data",
          "data": {
            "text/plain": [
              "<Figure size 720x504 with 2 Axes>"
            ],
            "image/png": "[encoded data removed]"
          },
          "metadata": {
            "needs_background": "light"
          }
        }
      ],
      "source": [
        "plt.figure(figsize=(10,7))\n",
        "sn.heatmap(cm,annot=True,fmt='d')\n",
        "plt.xlabel('Predicted')\n",
        "plt.ylabel('Actual')"
      ]
    },
    {
      "cell_type": "markdown",
      "id": "6e630d6d",
      "metadata": {
        "id": "6e630d6d"
      },
      "source": [
        "2. Random_Forests"
      ]
    },
    {
      "cell_type": "markdown",
      "source": [
        "A.Model Building & Fitting the Model with data"
      ],
      "metadata": {
        "id": "l768CETcJDp4"
      },
      "id": "l768CETcJDp4"
    },
    {
      "cell_type": "code",
      "execution_count": 20,
      "id": "0c951704",
      "metadata": {
        "id": "0c951704",
        "colab": {
          "base_uri": "https://localhost:8080/"
        },
        "outputId": "e6c1a06b-9407-4ba4-ea0a-1227b42763bb"
      },
      "outputs": [
        {
          "output_type": "execute_result",
          "data": {
            "text/plain": [
              "RandomForestClassifier(n_estimators=20)"
            ]
          },
          "metadata": {},
          "execution_count": 20
        }
      ],
      "source": [
        "from sklearn.ensemble import RandomForestClassifier\n",
        "RFC = RandomForestClassifier(n_estimators=20)\n",
        "RFC.fit(x_train_2D, y_train)"
      ]
    },
    {
      "cell_type": "markdown",
      "source": [
        "B.Model Evaluation"
      ],
      "metadata": {
        "id": "opEyzR4nKRqY"
      },
      "id": "opEyzR4nKRqY"
    },
    {
      "cell_type": "code",
      "execution_count": 21,
      "id": "fba9740f",
      "metadata": {
        "id": "fba9740f",
        "colab": {
          "base_uri": "https://localhost:8080/"
        },
        "outputId": "b1473a82-0bf2-482a-9996-bfb78e230162"
      },
      "outputs": [
        {
          "output_type": "execute_result",
          "data": {
            "text/plain": [
              "0.4094"
            ]
          },
          "metadata": {},
          "execution_count": 21
        }
      ],
      "source": [
        "RFC_eval=RFC.score(x_test_2D,y_test)\n",
        "RFC_eval"
      ]
    },
    {
      "cell_type": "markdown",
      "source": [
        "C.Classification Report"
      ],
      "metadata": {
        "id": "J9zRkj5-KnSP"
      },
      "id": "J9zRkj5-KnSP"
    },
    {
      "cell_type": "code",
      "execution_count": 22,
      "id": "412221ee",
      "metadata": {
        "id": "412221ee",
        "colab": {
          "base_uri": "https://localhost:8080/"
        },
        "outputId": "db503518-0f3a-466c-ed6c-ed94321295ee"
      },
      "outputs": [
        {
          "output_type": "stream",
          "name": "stdout",
          "text": [
            "Classification Report:\n",
            "               precision    recall  f1-score   support\n",
            "\n",
            "           0       0.10      1.00      0.18      1000\n",
            "           1       0.00      0.00      0.00      1000\n",
            "           2       0.00      0.00      0.00      1000\n",
            "           3       0.00      0.00      0.00      1000\n",
            "           4       0.00      0.00      0.00      1000\n",
            "           5       0.00      0.00      0.00      1000\n",
            "           6       0.00      0.00      0.00      1000\n",
            "           7       0.00      0.00      0.00      1000\n",
            "           8       0.00      0.00      0.00      1000\n",
            "           9       0.00      0.00      0.00      1000\n",
            "\n",
            "    accuracy                           0.10     10000\n",
            "   macro avg       0.01      0.10      0.02     10000\n",
            "weighted avg       0.01      0.10      0.02     10000\n",
            "\n"
          ]
        },
        {
          "output_type": "stream",
          "name": "stderr",
          "text": [
            "/usr/local/lib/python3.7/dist-packages/sklearn/metrics/_classification.py:1318: UndefinedMetricWarning: Precision and F-score are ill-defined and being set to 0.0 in labels with no predicted samples. Use `zero_division` parameter to control this behavior.\n",
            "  _warn_prf(average, modifier, msg_start, len(result))\n",
            "/usr/local/lib/python3.7/dist-packages/sklearn/metrics/_classification.py:1318: UndefinedMetricWarning: Precision and F-score are ill-defined and being set to 0.0 in labels with no predicted samples. Use `zero_division` parameter to control this behavior.\n",
            "  _warn_prf(average, modifier, msg_start, len(result))\n",
            "/usr/local/lib/python3.7/dist-packages/sklearn/metrics/_classification.py:1318: UndefinedMetricWarning: Precision and F-score are ill-defined and being set to 0.0 in labels with no predicted samples. Use `zero_division` parameter to control this behavior.\n",
            "  _warn_prf(average, modifier, msg_start, len(result))\n"
          ]
        }
      ],
      "source": [
        "y_pred_RFC=RFC.predict(x_test_2D)\n",
        "y_pred_classes_RFC=[np.argmax(element) for element in y_pred_RFC]\n",
        "print('Classification Report:\\n',classification_report(y_test,y_pred_classes_RFC))"
      ]
    },
    {
      "cell_type": "markdown",
      "source": [
        "D.Confusion Matrix"
      ],
      "metadata": {
        "id": "N1Mgm1fiK90N"
      },
      "id": "N1Mgm1fiK90N"
    },
    {
      "cell_type": "code",
      "source": [
        "cm=tf.math.confusion_matrix(labels=y_test,predictions=y_pred_classes_RFC)\n",
        "cm"
      ],
      "metadata": {
        "id": "Qv1sf_JgxeGi",
        "colab": {
          "base_uri": "https://localhost:8080/"
        },
        "outputId": "3bb098dc-23c3-43c9-c709-e5d04fba2118"
      },
      "id": "Qv1sf_JgxeGi",
      "execution_count": 23,
      "outputs": [
        {
          "output_type": "execute_result",
          "data": {
            "text/plain": [
              "<tf.Tensor: shape=(10, 10), dtype=int32, numpy=\n",
              "array([[1000,    0,    0,    0,    0,    0,    0,    0,    0,    0],\n",
              "       [1000,    0,    0,    0,    0,    0,    0,    0,    0,    0],\n",
              "       [1000,    0,    0,    0,    0,    0,    0,    0,    0,    0],\n",
              "       [1000,    0,    0,    0,    0,    0,    0,    0,    0,    0],\n",
              "       [1000,    0,    0,    0,    0,    0,    0,    0,    0,    0],\n",
              "       [1000,    0,    0,    0,    0,    0,    0,    0,    0,    0],\n",
              "       [1000,    0,    0,    0,    0,    0,    0,    0,    0,    0],\n",
              "       [1000,    0,    0,    0,    0,    0,    0,    0,    0,    0],\n",
              "       [1000,    0,    0,    0,    0,    0,    0,    0,    0,    0],\n",
              "       [1000,    0,    0,    0,    0,    0,    0,    0,    0,    0]],\n",
              "      dtype=int32)>"
            ]
          },
          "metadata": {},
          "execution_count": 23
        }
      ]
    },
    {
      "cell_type": "code",
      "execution_count": 24,
      "id": "0d459917",
      "metadata": {
        "id": "0d459917",
        "colab": {
          "base_uri": "https://localhost:8080/",
          "height": 463
        },
        "outputId": "d26c0b79-17d4-40e4-f1ee-4d56f90ca696"
      },
      "outputs": [
        {
          "output_type": "execute_result",
          "data": {
            "text/plain": [
              "Text(69.0, 0.5, 'Actual')"
            ]
          },
          "metadata": {},
          "execution_count": 24
        },
        {
          "output_type": "display_data",
          "data": {
            "text/plain": [
              "<Figure size 720x504 with 2 Axes>"
            ],
            "image/png": "[encoded data removed]"
          },
          "metadata": {
            "needs_background": "light"
          }
        }
      ],
      "source": [
        "plt.figure(figsize=(10,7))\n",
        "sn.heatmap(cm,annot=True,fmt='d')\n",
        "plt.xlabel('Predicted')\n",
        "plt.ylabel('Actual')"
      ]
    },
    {
      "cell_type": "markdown",
      "id": "102a7fc9",
      "metadata": {
        "id": "102a7fc9"
      },
      "source": [
        "3. Artificail Neural Network"
      ]
    },
    {
      "cell_type": "markdown",
      "source": [
        "A.Model Building & Fitting the Model with data"
      ],
      "metadata": {
        "id": "r68NedJjJFeJ"
      },
      "id": "r68NedJjJFeJ"
    },
    {
      "cell_type": "code",
      "execution_count": 25,
      "id": "26edafde",
      "metadata": {
        "id": "26edafde",
        "colab": {
          "base_uri": "https://localhost:8080/"
        },
        "outputId": "e1cda627-0aaa-4330-eb93-9dc14bd1cb02"
      },
      "outputs": [
        {
          "output_type": "stream",
          "name": "stdout",
          "text": [
            "Epoch 1/10\n",
            "1563/1563 [==============================] - 11s 5ms/step - loss: 1.8839 - accuracy: 0.3198\n",
            "Epoch 2/10\n",
            "1563/1563 [==============================] - 8s 5ms/step - loss: 1.6835 - accuracy: 0.3936\n",
            "Epoch 3/10\n",
            "1563/1563 [==============================] - 8s 5ms/step - loss: 1.5933 - accuracy: 0.4277\n",
            "Epoch 4/10\n",
            "1563/1563 [==============================] - 8s 5ms/step - loss: 1.5403 - accuracy: 0.4441\n",
            "Epoch 5/10\n",
            "1563/1563 [==============================] - 8s 5ms/step - loss: 1.4889 - accuracy: 0.4626\n",
            "Epoch 6/10\n",
            "1563/1563 [==============================] - 8s 5ms/step - loss: 1.4503 - accuracy: 0.4767\n",
            "Epoch 7/10\n",
            "1563/1563 [==============================] - 8s 5ms/step - loss: 1.4227 - accuracy: 0.4879\n",
            "Epoch 8/10\n",
            "1563/1563 [==============================] - 8s 5ms/step - loss: 1.3984 - accuracy: 0.4948\n",
            "Epoch 9/10\n",
            "1563/1563 [==============================] - 8s 5ms/step - loss: 1.3734 - accuracy: 0.5049\n",
            "Epoch 10/10\n",
            "1563/1563 [==============================] - 8s 5ms/step - loss: 1.3459 - accuracy: 0.5146\n"
          ]
        },
        {
          "output_type": "execute_result",
          "data": {
            "text/plain": [
              "<keras.callbacks.History at 0x7f3f2cef15d0>"
            ]
          },
          "metadata": {},
          "execution_count": 25
        }
      ],
      "source": [
        "ANN=models.Sequential([\n",
        "    layers.Flatten(input_shape=(32,32,3)),\n",
        "    layers.Dense(3000,activation='relu'),\n",
        "    layers.Dense(1000,activation='relu'),\n",
        "    layers.Dense(1000,activation='relu'),\n",
        "    layers.Dense(10,activation='softmax')\n",
        "])\n",
        "\n",
        "ANN.compile(optimizer='Adam',\n",
        "            loss='sparse_categorical_crossentropy',\n",
        "            metrics=['accuracy'])\n",
        "\n",
        "ANN.fit(x_train,y_train,epochs=10)"
      ]
    },
    {
      "cell_type": "markdown",
      "source": [
        "B.Model Evaluation"
      ],
      "metadata": {
        "id": "YaD0qdvJKUUc"
      },
      "id": "YaD0qdvJKUUc"
    },
    {
      "cell_type": "code",
      "execution_count": 26,
      "id": "84b972fa",
      "metadata": {
        "id": "84b972fa",
        "colab": {
          "base_uri": "https://localhost:8080/"
        },
        "outputId": "f7ba8b65-78d0-4006-9f1b-4f243f02a668"
      },
      "outputs": [
        {
          "output_type": "stream",
          "name": "stdout",
          "text": [
            "313/313 [==============================] - 1s 3ms/step - loss: 1.4574 - accuracy: 0.4794\n"
          ]
        },
        {
          "output_type": "execute_result",
          "data": {
            "text/plain": [
              "[1.4574060440063477, 0.47940000891685486]"
            ]
          },
          "metadata": {},
          "execution_count": 26
        }
      ],
      "source": [
        "ANN_eval=ANN.evaluate(x_test,y_test)\n",
        "ANN_eval"
      ]
    },
    {
      "cell_type": "markdown",
      "source": [
        "C.Classification Report"
      ],
      "metadata": {
        "id": "bqxc2S95KqOE"
      },
      "id": "bqxc2S95KqOE"
    },
    {
      "cell_type": "code",
      "execution_count": 27,
      "id": "eb6e78e0",
      "metadata": {
        "scrolled": true,
        "id": "eb6e78e0",
        "colab": {
          "base_uri": "https://localhost:8080/"
        },
        "outputId": "19c42308-1df4-4bef-84d8-0f96f4ed0ed0"
      },
      "outputs": [
        {
          "output_type": "stream",
          "name": "stdout",
          "text": [
            "313/313 [==============================] - 1s 2ms/step\n",
            "Classification Report:\n",
            "               precision    recall  f1-score   support\n",
            "\n",
            "           0       0.55      0.56      0.56      1000\n",
            "           1       0.49      0.71      0.58      1000\n",
            "           2       0.37      0.29      0.33      1000\n",
            "           3       0.34      0.32      0.33      1000\n",
            "           4       0.38      0.42      0.40      1000\n",
            "           5       0.43      0.39      0.41      1000\n",
            "           6       0.50      0.55      0.53      1000\n",
            "           7       0.56      0.54      0.55      1000\n",
            "           8       0.58      0.67      0.62      1000\n",
            "           9       0.58      0.34      0.43      1000\n",
            "\n",
            "    accuracy                           0.48     10000\n",
            "   macro avg       0.48      0.48      0.47     10000\n",
            "weighted avg       0.48      0.48      0.47     10000\n",
            "\n"
          ]
        }
      ],
      "source": [
        "y_pred_ANN=ANN.predict(x_test)\n",
        "y_pred_classes_ANN=[np.argmax(element) for element in y_pred_ANN]\n",
        "print('Classification Report:\\n',classification_report(y_test,y_pred_classes_ANN))"
      ]
    },
    {
      "cell_type": "markdown",
      "source": [
        "D.Confusion Matrix"
      ],
      "metadata": {
        "id": "wzu_LWz4K_5m"
      },
      "id": "wzu_LWz4K_5m"
    },
    {
      "cell_type": "code",
      "execution_count": 28,
      "id": "6edeef4e",
      "metadata": {
        "id": "6edeef4e",
        "colab": {
          "base_uri": "https://localhost:8080/"
        },
        "outputId": "837fcdc7-905f-47a4-a104-94b795b1b3e2"
      },
      "outputs": [
        {
          "output_type": "execute_result",
          "data": {
            "text/plain": [
              "<tf.Tensor: shape=(10, 10), dtype=int32, numpy=\n",
              "array([[561,  68,  71,  20,  30,  12,  25,  30, 157,  26],\n",
              "       [ 31, 707,   9,  22,  10,  16,  15,  18,  83,  89],\n",
              "       [ 82,  39, 295,  95, 158,  93, 138,  64,  23,  13],\n",
              "       [ 45,  47,  71, 322,  90, 201, 119,  49,  31,  25],\n",
              "       [ 66,  14, 137,  69, 416,  40, 106, 110,  31,  11],\n",
              "       [ 20,  32,  72, 207,  80, 388,  85,  76,  29,  11],\n",
              "       [ 16,  24,  56,  88, 166,  42, 554,  28,  19,   7],\n",
              "       [ 42,  42,  62,  58,  99,  77,  24, 537,  18,  41],\n",
              "       [ 97,  93,  15,  34,  24,  17,  13,  11, 674,  22],\n",
              "       [ 54, 366,  10,  27,  15,  22,  28,  38, 100, 340]], dtype=int32)>"
            ]
          },
          "metadata": {},
          "execution_count": 28
        }
      ],
      "source": [
        "cm=tf.math.confusion_matrix(labels=y_test,predictions=y_pred_classes_ANN)\n",
        "cm"
      ]
    },
    {
      "cell_type": "code",
      "execution_count": 29,
      "id": "27cba4c0",
      "metadata": {
        "id": "27cba4c0",
        "colab": {
          "base_uri": "https://localhost:8080/",
          "height": 460
        },
        "outputId": "af9eb047-0ed7-4e75-8f46-4bce735de09c"
      },
      "outputs": [
        {
          "output_type": "execute_result",
          "data": {
            "text/plain": [
              "Text(69.0, 0.5, 'Actual')"
            ]
          },
          "metadata": {},
          "execution_count": 29
        },
        {
          "output_type": "display_data",
          "data": {
            "text/plain": [
              "<Figure size 720x504 with 2 Axes>"
            ],
            "image/png": "[encoded data removed]"
          },
          "metadata": {
            "needs_background": "light"
          }
        }
      ],
      "source": [
        "plt.figure(figsize=(10,7))\n",
        "sn.heatmap(cm,annot=True,fmt='d')\n",
        "plt.xlabel('Predicted')\n",
        "plt.ylabel('Actual')"
      ]
    },
    {
      "cell_type": "markdown",
      "id": "773a29ba",
      "metadata": {
        "id": "773a29ba"
      },
      "source": [
        "4. Convolutional Neural Network"
      ]
    },
    {
      "cell_type": "markdown",
      "source": [
        "A.Model Building & Fitting the Model with data"
      ],
      "metadata": {
        "id": "Ggh4770CJcPX"
      },
      "id": "Ggh4770CJcPX"
    },
    {
      "cell_type": "code",
      "execution_count": 30,
      "id": "235061b4",
      "metadata": {
        "id": "235061b4",
        "colab": {
          "base_uri": "https://localhost:8080/"
        },
        "outputId": "8ac8ccd3-5f78-4363-af13-51b0653f198f"
      },
      "outputs": [
        {
          "output_type": "stream",
          "name": "stdout",
          "text": [
            "Epoch 1/10\n",
            "313/313 [==============================] - 10s 9ms/step - loss: 1.8247 - accuracy: 0.3194\n",
            "Epoch 2/10\n",
            "313/313 [==============================] - 3s 8ms/step - loss: 1.3756 - accuracy: 0.5006\n",
            "Epoch 3/10\n",
            "313/313 [==============================] - 3s 9ms/step - loss: 1.1213 - accuracy: 0.5938\n",
            "Epoch 4/10\n",
            "313/313 [==============================] - 3s 8ms/step - loss: 0.8710 - accuracy: 0.6863\n",
            "Epoch 5/10\n",
            "313/313 [==============================] - 3s 8ms/step - loss: 0.6025 - accuracy: 0.7891\n",
            "Epoch 6/10\n",
            "313/313 [==============================] - 3s 8ms/step - loss: 0.3830 - accuracy: 0.8673\n",
            "Epoch 7/10\n",
            "313/313 [==============================] - 3s 8ms/step - loss: 0.2255 - accuracy: 0.9239\n",
            "Epoch 8/10\n",
            "313/313 [==============================] - 3s 8ms/step - loss: 0.1518 - accuracy: 0.9478\n",
            "Epoch 9/10\n",
            "313/313 [==============================] - 3s 8ms/step - loss: 0.1352 - accuracy: 0.9561\n",
            "Epoch 10/10\n",
            "313/313 [==============================] - 3s 9ms/step - loss: 0.1201 - accuracy: 0.9611\n"
          ]
        },
        {
          "output_type": "execute_result",
          "data": {
            "text/plain": [
              "<keras.callbacks.History at 0x7f3f2cc3efd0>"
            ]
          },
          "metadata": {},
          "execution_count": 30
        }
      ],
      "source": [
        "CNN=models.Sequential([\n",
        "    #CNN\n",
        "    layers.Conv2D(filters=32,kernel_size=(3,3),activation='relu',input_shape=(32,32,3)),\n",
        "    layers.MaxPooling2D((2,2)),\n",
        "    \n",
        "    #Dense\n",
        "    layers.Flatten(),\n",
        "    layers.Dense(3000,activation='relu'),\n",
        "    layers.Dense(1000,activation='relu'),\n",
        "    layers.Dense(1000,activation='relu'),\n",
        "    layers.Dense(10,activation='softmax')\n",
        "])\n",
        "\n",
        "CNN.compile(optimizer='Adam',\n",
        "            loss='sparse_categorical_crossentropy',\n",
        "            metrics=['accuracy'])\n",
        "\n",
        "CNN.fit(x_test,y_test,epochs=10)"
      ]
    },
    {
      "cell_type": "markdown",
      "source": [
        "B.Model Evaluation"
      ],
      "metadata": {
        "id": "Ps6DIDYxKYNl"
      },
      "id": "Ps6DIDYxKYNl"
    },
    {
      "cell_type": "code",
      "execution_count": 31,
      "id": "cef497f7",
      "metadata": {
        "id": "cef497f7",
        "colab": {
          "base_uri": "https://localhost:8080/"
        },
        "outputId": "2acd27e6-ffbf-420b-a5b5-a9e604ee688a"
      },
      "outputs": [
        {
          "output_type": "stream",
          "name": "stdout",
          "text": [
            "313/313 [==============================] - 1s 3ms/step - loss: 0.1055 - accuracy: 0.9645\n"
          ]
        },
        {
          "output_type": "execute_result",
          "data": {
            "text/plain": [
              "[0.1054881140589714, 0.9645000100135803]"
            ]
          },
          "metadata": {},
          "execution_count": 31
        }
      ],
      "source": [
        "CNN_eval=CNN.evaluate(x_test,y_test)\n",
        "CNN_eval"
      ]
    },
    {
      "cell_type": "markdown",
      "source": [
        "C.Classification Report"
      ],
      "metadata": {
        "id": "3dHu2gV_KsQv"
      },
      "id": "3dHu2gV_KsQv"
    },
    {
      "cell_type": "code",
      "execution_count": 32,
      "id": "133d7be2",
      "metadata": {
        "id": "133d7be2",
        "colab": {
          "base_uri": "https://localhost:8080/"
        },
        "outputId": "f3b1b055-a04e-4724-efa9-2b029219fb73"
      },
      "outputs": [
        {
          "output_type": "stream",
          "name": "stdout",
          "text": [
            "313/313 [==============================] - 1s 2ms/step\n",
            "Classification Report:\n",
            "               precision    recall  f1-score   support\n",
            "\n",
            "           0       0.93      0.99      0.96      1000\n",
            "           1       0.98      0.99      0.99      1000\n",
            "           2       0.99      0.86      0.92      1000\n",
            "           3       0.92      0.98      0.95      1000\n",
            "           4       0.93      0.98      0.95      1000\n",
            "           5       0.96      0.95      0.96      1000\n",
            "           6       0.97      0.97      0.97      1000\n",
            "           7       0.98      0.99      0.98      1000\n",
            "           8       1.00      0.96      0.98      1000\n",
            "           9       0.99      0.97      0.98      1000\n",
            "\n",
            "    accuracy                           0.96     10000\n",
            "   macro avg       0.97      0.96      0.96     10000\n",
            "weighted avg       0.97      0.96      0.96     10000\n",
            "\n"
          ]
        }
      ],
      "source": [
        "y_pred_CNN=CNN.predict(x_test)\n",
        "y_pred_classes_CNN=[np.argmax(element) for element in y_pred_CNN]\n",
        "print('Classification Report:\\n',classification_report(y_test,y_pred_classes_CNN))"
      ]
    },
    {
      "cell_type": "markdown",
      "source": [
        "D.Confusion Matrix"
      ],
      "metadata": {
        "id": "ofhM5MS2LBrR"
      },
      "id": "ofhM5MS2LBrR"
    },
    {
      "cell_type": "code",
      "execution_count": 33,
      "id": "63818962",
      "metadata": {
        "id": "63818962",
        "colab": {
          "base_uri": "https://localhost:8080/"
        },
        "outputId": "c25c1f48-42ce-4f49-ce3c-3dff9d467544"
      },
      "outputs": [
        {
          "output_type": "execute_result",
          "data": {
            "text/plain": [
              "<tf.Tensor: shape=(10, 10), dtype=int32, numpy=\n",
              "array([[993,   0,   0,   6,   0,   0,   0,   0,   1,   0],\n",
              "       [  6, 990,   0,   0,   0,   1,   3,   0,   0,   0],\n",
              "       [ 27,   2, 856,  22,  57,  22,  11,   1,   0,   2],\n",
              "       [  0,   0,   2, 985,   1,   2,  10,   0,   0,   0],\n",
              "       [  3,   0,   2,  10, 976,   1,   2,   5,   1,   0],\n",
              "       [  0,   0,   3,  27,   4, 951,   0,  15,   0,   0],\n",
              "       [  0,   0,   0,  13,  10,   2, 973,   1,   0,   1],\n",
              "       [  0,   0,   0,   1,   3,   3,   2, 990,   0,   1],\n",
              "       [ 19,   2,   0,   7,   1,   2,   2,   1, 965,   1],\n",
              "       [ 16,  12,   0,   2,   0,   2,   1,   1,   0, 966]], dtype=int32)>"
            ]
          },
          "metadata": {},
          "execution_count": 33
        }
      ],
      "source": [
        "cm=tf.math.confusion_matrix(labels=y_test,predictions=y_pred_classes_CNN)\n",
        "cm"
      ]
    },
    {
      "cell_type": "code",
      "execution_count": 34,
      "id": "d948d339",
      "metadata": {
        "id": "d948d339",
        "colab": {
          "base_uri": "https://localhost:8080/",
          "height": 459
        },
        "outputId": "7a07c3e9-6f16-47a8-e158-14cac9404bc9"
      },
      "outputs": [
        {
          "output_type": "execute_result",
          "data": {
            "text/plain": [
              "Text(69.0, 0.5, 'Actual')"
            ]
          },
          "metadata": {},
          "execution_count": 34
        },
        {
          "output_type": "display_data",
          "data": {
            "text/plain": [
              "<Figure size 720x504 with 2 Axes>"
            ],
            "image/png": "[encoded data removed]"
          },
          "metadata": {
            "needs_background": "light"
          }
        }
      ],
      "source": [
        "plt.figure(figsize=(10,7))\n",
        "sn.heatmap(cm,annot=True,fmt='d')\n",
        "plt.xlabel('Predicted')\n",
        "plt.ylabel('Actual')"
      ]
    },
    {
      "cell_type": "markdown",
      "id": "7f9be72d",
      "metadata": {
        "id": "7f9be72d"
      },
      "source": [
        "5. Long Short Term Memory"
      ]
    },
    {
      "cell_type": "markdown",
      "source": [
        "A.Model Building & Fitting the Model with data"
      ],
      "metadata": {
        "id": "GAWErjnGJj-N"
      },
      "id": "GAWErjnGJj-N"
    },
    {
      "cell_type": "code",
      "execution_count": 35,
      "id": "a2052ecb",
      "metadata": {
        "id": "a2052ecb",
        "colab": {
          "base_uri": "https://localhost:8080/"
        },
        "outputId": "b6a3b835-d7fc-447c-a776-3bd576d9be66"
      },
      "outputs": [
        {
          "output_type": "stream",
          "name": "stdout",
          "text": [
            "Epoch 1/10\n",
            "1563/1563 [==============================] - 163s 101ms/step - loss: 1.7582 - accuracy: 0.3858\n",
            "Epoch 2/10\n",
            "1563/1563 [==============================] - 163s 104ms/step - loss: 1.4389 - accuracy: 0.4856\n",
            "Epoch 3/10\n",
            "1563/1563 [==============================] - 160s 102ms/step - loss: 1.3098 - accuracy: 0.5338\n",
            "Epoch 4/10\n",
            "1563/1563 [==============================] - 159s 102ms/step - loss: 1.1975 - accuracy: 0.5721\n",
            "Epoch 5/10\n",
            "1563/1563 [==============================] - 159s 102ms/step - loss: 1.0899 - accuracy: 0.6113\n",
            "Epoch 6/10\n",
            "1563/1563 [==============================] - 159s 102ms/step - loss: 0.9732 - accuracy: 0.6512\n",
            "Epoch 7/10\n",
            "1563/1563 [==============================] - 159s 102ms/step - loss: 0.8525 - accuracy: 0.6919\n",
            "Epoch 8/10\n",
            "1563/1563 [==============================] - 159s 102ms/step - loss: 0.7150 - accuracy: 0.7440\n",
            "Epoch 9/10\n",
            "1563/1563 [==============================] - 159s 102ms/step - loss: 0.6034 - accuracy: 0.7853\n",
            "Epoch 10/10\n",
            "1563/1563 [==============================] - 159s 102ms/step - loss: 0.4950 - accuracy: 0.8235\n"
          ]
        },
        {
          "output_type": "execute_result",
          "data": {
            "text/plain": [
              "<keras.callbacks.History at 0x7f3f2c8a2790>"
            ]
          },
          "metadata": {},
          "execution_count": 35
        }
      ],
      "source": [
        "model_LSTM = tf.keras.models.Sequential([\n",
        "        tf.keras.layers.Bidirectional(tf.keras.layers.LSTM(32, input_shape=(1024,3), return_sequences=True)),\n",
        "                \n",
        "        tf.keras.layers.Flatten(),\n",
        "        tf.keras.layers.Dense(3000, activation='relu'),\n",
        "        tf.keras.layers.Dense(1000, activation='relu'),\n",
        "        tf.keras.layers.Dense(1000, activation='relu'),\n",
        "        tf.keras.layers.Dense(10, activation='softmax')\n",
        "        ])\n",
        "\n",
        "model_LSTM.compile(optimizer='adam',\n",
        "              loss = 'sparse_categorical_crossentropy',\n",
        "              metrics=[\"accuracy\"])\n",
        "model_LSTM.fit(x_train_3D,y_train,epochs=10)\n"
      ]
    },
    {
      "cell_type": "markdown",
      "source": [
        "B.Model Evaluation"
      ],
      "metadata": {
        "id": "DpIucrfXKcdz"
      },
      "id": "DpIucrfXKcdz"
    },
    {
      "cell_type": "code",
      "execution_count": 36,
      "id": "bec0ffb0",
      "metadata": {
        "id": "bec0ffb0",
        "colab": {
          "base_uri": "https://localhost:8080/"
        },
        "outputId": "c502b030-c240-4cf4-d683-90fc856a5a5e"
      },
      "outputs": [
        {
          "output_type": "stream",
          "name": "stdout",
          "text": [
            "313/313 [==============================] - 10s 30ms/step - loss: 1.7632 - accuracy: 0.5670\n"
          ]
        },
        {
          "output_type": "execute_result",
          "data": {
            "text/plain": [
              "[1.7632086277008057, 0.5669999718666077]"
            ]
          },
          "metadata": {},
          "execution_count": 36
        }
      ],
      "source": [
        "LSTM_eval=model_LSTM.evaluate(x_test_3D,y_test)\n",
        "LSTM_eval"
      ]
    },
    {
      "cell_type": "markdown",
      "source": [
        "C.Classification Report"
      ],
      "metadata": {
        "id": "0F_k3rf6Kwbs"
      },
      "id": "0F_k3rf6Kwbs"
    },
    {
      "cell_type": "code",
      "execution_count": 37,
      "id": "67fdb129",
      "metadata": {
        "id": "67fdb129",
        "colab": {
          "base_uri": "https://localhost:8080/"
        },
        "outputId": "3ba128fe-f2f0-4261-f822-acb47d71bbe1"
      },
      "outputs": [
        {
          "output_type": "stream",
          "name": "stdout",
          "text": [
            "313/313 [==============================] - 9s 27ms/step\n",
            "Classification Report:\n",
            "               precision    recall  f1-score   support\n",
            "\n",
            "           0       0.62      0.62      0.62      1000\n",
            "           1       0.62      0.75      0.68      1000\n",
            "           2       0.45      0.46      0.45      1000\n",
            "           3       0.39      0.44      0.41      1000\n",
            "           4       0.51      0.47      0.49      1000\n",
            "           5       0.53      0.40      0.45      1000\n",
            "           6       0.60      0.67      0.63      1000\n",
            "           7       0.61      0.65      0.63      1000\n",
            "           8       0.70      0.68      0.69      1000\n",
            "           9       0.66      0.54      0.59      1000\n",
            "\n",
            "    accuracy                           0.57     10000\n",
            "   macro avg       0.57      0.57      0.57     10000\n",
            "weighted avg       0.57      0.57      0.57     10000\n",
            "\n"
          ]
        }
      ],
      "source": [
        "y_pred_model_LSTM=model_LSTM.predict(x_test_3D)\n",
        "y_pred_classes_model_LSTM=[np.argmax(element) for element in y_pred_model_LSTM]\n",
        "print('Classification Report:\\n',classification_report(y_test,y_pred_classes_model_LSTM))"
      ]
    },
    {
      "cell_type": "markdown",
      "source": [
        "D.Confusion Matrix"
      ],
      "metadata": {
        "id": "pIdaWORCLDm0"
      },
      "id": "pIdaWORCLDm0"
    },
    {
      "cell_type": "code",
      "execution_count": 38,
      "id": "1e25b72b",
      "metadata": {
        "id": "1e25b72b",
        "colab": {
          "base_uri": "https://localhost:8080/"
        },
        "outputId": "057df169-1ec9-46b4-9f32-ffcf43881d9d"
      },
      "outputs": [
        {
          "output_type": "execute_result",
          "data": {
            "text/plain": [
              "<tf.Tensor: shape=(10, 10), dtype=int32, numpy=\n",
              "array([[620,  56,  61,  29,  30,   9,  25,  30, 104,  36],\n",
              "       [ 37, 746,  15,  21,   9,  10,  11,  16,  42,  93],\n",
              "       [ 74,  21, 456,  81, 107,  62,  99,  69,  22,   9],\n",
              "       [ 26,  22,  97, 442,  66, 146, 100,  54,  24,  23],\n",
              "       [ 37,   7, 132,  85, 471,  35, 109,  92,  24,   8],\n",
              "       [ 21,  10,  85, 248,  75, 399,  51,  85,   9,  17],\n",
              "       [ 12,  11,  72,  96,  63,  29, 668,  22,   7,  20],\n",
              "       [ 31,  15,  56,  68,  80,  46,  13, 653,   8,  30],\n",
              "       [103,  82,  24,  28,  18,  11,  12,   8, 679,  35],\n",
              "       [ 38, 231,  25,  36,  11,  10,  22,  35,  56, 536]], dtype=int32)>"
            ]
          },
          "metadata": {},
          "execution_count": 38
        }
      ],
      "source": [
        "cm=tf.math.confusion_matrix(labels=y_test,predictions=y_pred_classes_model_LSTM)\n",
        "cm"
      ]
    },
    {
      "cell_type": "code",
      "execution_count": 39,
      "id": "ef0a0b9c",
      "metadata": {
        "id": "ef0a0b9c",
        "colab": {
          "base_uri": "https://localhost:8080/",
          "height": 459
        },
        "outputId": "5e54a350-c51c-4b4b-fecd-cb8fd43e441b"
      },
      "outputs": [
        {
          "output_type": "execute_result",
          "data": {
            "text/plain": [
              "Text(69.0, 0.5, 'Actual')"
            ]
          },
          "metadata": {},
          "execution_count": 39
        },
        {
          "output_type": "display_data",
          "data": {
            "text/plain": [
              "<Figure size 720x504 with 2 Axes>"
            ],
            "image/png": "[encoded data removed]"
          },
          "metadata": {
            "needs_background": "light"
          }
        }
      ],
      "source": [
        "plt.figure(figsize=(10,7))\n",
        "sn.heatmap(cm,annot=True,fmt='d')\n",
        "plt.xlabel('Predicted')\n",
        "plt.ylabel('Actual')"
      ]
    },
    {
      "cell_type": "markdown",
      "id": "4b3a0452",
      "metadata": {
        "id": "4b3a0452"
      },
      "source": [
        "6. Gated Recurrent Units"
      ]
    },
    {
      "cell_type": "markdown",
      "source": [
        "A.Model Building & Fitting the Model with data"
      ],
      "metadata": {
        "id": "kA12lRtcJs60"
      },
      "id": "kA12lRtcJs60"
    },
    {
      "cell_type": "code",
      "execution_count": 40,
      "id": "9aac605d",
      "metadata": {
        "id": "9aac605d",
        "colab": {
          "base_uri": "https://localhost:8080/"
        },
        "outputId": "00800bd1-612e-4c65-97c1-a71b7fa85479"
      },
      "outputs": [
        {
          "output_type": "stream",
          "name": "stdout",
          "text": [
            "Epoch 1/10\n",
            "1563/1563 [==============================] - 160s 100ms/step - loss: 1.8975 - accuracy: 0.3743\n",
            "Epoch 2/10\n",
            "1563/1563 [==============================] - 157s 100ms/step - loss: 1.4695 - accuracy: 0.4752\n",
            "Epoch 3/10\n",
            "1563/1563 [==============================] - 156s 100ms/step - loss: 1.3361 - accuracy: 0.5259\n",
            "Epoch 4/10\n",
            "1563/1563 [==============================] - 156s 100ms/step - loss: 1.2226 - accuracy: 0.5640\n",
            "Epoch 5/10\n",
            "1563/1563 [==============================] - 156s 100ms/step - loss: 1.0895 - accuracy: 0.6105\n",
            "Epoch 6/10\n",
            "1563/1563 [==============================] - 156s 100ms/step - loss: 0.9453 - accuracy: 0.6626\n",
            "Epoch 7/10\n",
            "1563/1563 [==============================] - 156s 100ms/step - loss: 0.8079 - accuracy: 0.7123\n",
            "Epoch 8/10\n",
            "1563/1563 [==============================] - 156s 100ms/step - loss: 0.6629 - accuracy: 0.7631\n",
            "Epoch 9/10\n",
            "1563/1563 [==============================] - 156s 100ms/step - loss: 0.5367 - accuracy: 0.8088\n",
            "Epoch 10/10\n",
            "1563/1563 [==============================] - 156s 100ms/step - loss: 0.4390 - accuracy: 0.8456\n"
          ]
        },
        {
          "output_type": "execute_result",
          "data": {
            "text/plain": [
              "<keras.callbacks.History at 0x7f3f4138c950>"
            ]
          },
          "metadata": {},
          "execution_count": 40
        }
      ],
      "source": [
        "model_GRU = tf.keras.models.Sequential([\n",
        "        tf.keras.layers.Bidirectional(tf.keras.layers.GRU(32, input_shape=(1024,3), return_sequences=True)),\n",
        "                \n",
        "        tf.keras.layers.Flatten(),\n",
        "        tf.keras.layers.Dense(3000, activation='relu'),\n",
        "        tf.keras.layers.Dense(1000, activation='relu'),\n",
        "        tf.keras.layers.Dense(1000, activation='relu'),\n",
        "        tf.keras.layers.Dense(10, activation='softmax')\n",
        "        ])\n",
        "\n",
        "model_GRU.compile(optimizer='adam',\n",
        "              loss = 'sparse_categorical_crossentropy',\n",
        "              metrics=[\"accuracy\"])\n",
        "model_GRU.fit(x_train_3D, y_train,epochs=10)"
      ]
    },
    {
      "cell_type": "markdown",
      "source": [
        "B.Model Evaluation"
      ],
      "metadata": {
        "id": "4-m_uGF6KfTQ"
      },
      "id": "4-m_uGF6KfTQ"
    },
    {
      "cell_type": "code",
      "execution_count": 41,
      "id": "d3367956",
      "metadata": {
        "id": "d3367956",
        "colab": {
          "base_uri": "https://localhost:8080/"
        },
        "outputId": "6ad50aa5-4bff-45ef-ebec-621f40607309"
      },
      "outputs": [
        {
          "output_type": "stream",
          "name": "stdout",
          "text": [
            "313/313 [==============================] - 10s 29ms/step - loss: 1.6879 - accuracy: 0.5823\n"
          ]
        },
        {
          "output_type": "execute_result",
          "data": {
            "text/plain": [
              "[1.6878671646118164, 0.5823000073432922]"
            ]
          },
          "metadata": {},
          "execution_count": 41
        }
      ],
      "source": [
        "GRU_eval=model_GRU.evaluate(x_test_3D,y_test)\n",
        "GRU_eval"
      ]
    },
    {
      "cell_type": "markdown",
      "source": [
        "C.Classification Report"
      ],
      "metadata": {
        "id": "B4ayshx3KywB"
      },
      "id": "B4ayshx3KywB"
    },
    {
      "cell_type": "code",
      "execution_count": 42,
      "id": "b6ebcd20",
      "metadata": {
        "id": "b6ebcd20",
        "colab": {
          "base_uri": "https://localhost:8080/"
        },
        "outputId": "8885c986-85ca-41a3-bde0-3b49d4ebfb1c"
      },
      "outputs": [
        {
          "output_type": "stream",
          "name": "stdout",
          "text": [
            "313/313 [==============================] - 9s 27ms/step\n",
            "Classification Report:\n",
            "               precision    recall  f1-score   support\n",
            "\n",
            "           0       0.59      0.67      0.63      1000\n",
            "           1       0.72      0.67      0.69      1000\n",
            "           2       0.47      0.53      0.50      1000\n",
            "           3       0.43      0.32      0.37      1000\n",
            "           4       0.51      0.51      0.51      1000\n",
            "           5       0.43      0.53      0.48      1000\n",
            "           6       0.68      0.62      0.65      1000\n",
            "           7       0.63      0.68      0.65      1000\n",
            "           8       0.71      0.71      0.71      1000\n",
            "           9       0.67      0.58      0.62      1000\n",
            "\n",
            "    accuracy                           0.58     10000\n",
            "   macro avg       0.59      0.58      0.58     10000\n",
            "weighted avg       0.59      0.58      0.58     10000\n",
            "\n"
          ]
        }
      ],
      "source": [
        "y_pred_model_GRU=model_GRU.predict(x_test_3D)\n",
        "y_pred_classes_model_GRU=[np.argmax(element) for element in y_pred_model_GRU]\n",
        "print('Classification Report:\\n',classification_report(y_test,y_pred_classes_model_GRU))"
      ]
    },
    {
      "cell_type": "markdown",
      "source": [
        "D.Confusion Matrix"
      ],
      "metadata": {
        "id": "svZBnYMJLFoD"
      },
      "id": "svZBnYMJLFoD"
    },
    {
      "cell_type": "code",
      "source": [
        "cm=tf.math.confusion_matrix(labels=y_test,predictions=y_pred_classes_model_GRU)\n",
        "cm"
      ],
      "metadata": {
        "id": "KBiG043mxaZ9",
        "colab": {
          "base_uri": "https://localhost:8080/"
        },
        "outputId": "ba69516f-fbc3-45d9-eb90-904ac67bf38d"
      },
      "id": "KBiG043mxaZ9",
      "execution_count": 43,
      "outputs": [
        {
          "output_type": "execute_result",
          "data": {
            "text/plain": [
              "<tf.Tensor: shape=(10, 10), dtype=int32, numpy=\n",
              "array([[671,  23,  84,  25,  26,  16,  17,  25,  80,  33],\n",
              "       [ 58, 669,  14,  19,   8,  11,   9,  19,  48, 145],\n",
              "       [ 67,   4, 525,  41, 107, 104,  52,  65,  21,  14],\n",
              "       [ 36,  15,  85, 319,  85, 281,  71,  62,  25,  21],\n",
              "       [ 37,   6, 129,  39, 509,  76,  64, 107,  27,   6],\n",
              "       [ 29,  11,  89, 151,  57, 531,  41,  61,  17,  13],\n",
              "       [ 16,  13,  89,  51, 114,  67, 618,  21,   5,   6],\n",
              "       [ 33,  15,  52,  33,  58,  88,  10, 683,  11,  17],\n",
              "       [110,  35,  25,  24,  19,  21,   9,  10, 714,  33],\n",
              "       [ 74, 140,  28,  33,  13,  28,  12,  37,  51, 584]], dtype=int32)>"
            ]
          },
          "metadata": {},
          "execution_count": 43
        }
      ]
    },
    {
      "cell_type": "code",
      "execution_count": 44,
      "id": "80a37c5b",
      "metadata": {
        "id": "80a37c5b",
        "colab": {
          "base_uri": "https://localhost:8080/",
          "height": 459
        },
        "outputId": "8c105dab-e254-4cc6-ce4b-71f92a02fc19"
      },
      "outputs": [
        {
          "output_type": "execute_result",
          "data": {
            "text/plain": [
              "Text(69.0, 0.5, 'Actual')"
            ]
          },
          "metadata": {},
          "execution_count": 44
        },
        {
          "output_type": "display_data",
          "data": {
            "text/plain": [
              "<Figure size 720x504 with 2 Axes>"
            ],
            "image/png": "[encoded data removed]"
          },
          "metadata": {
            "needs_background": "light"
          }
        }
      ],
      "source": [
        "plt.figure(figsize=(10,7))\n",
        "sn.heatmap(cm,annot=True,fmt='d')\n",
        "plt.xlabel('Predicted')\n",
        "plt.ylabel('Actual')"
      ]
    },
    {
      "cell_type": "markdown",
      "source": [
        "### Conclusion"
      ],
      "metadata": {
        "id": "MgrV5SDVJwTg"
      },
      "id": "MgrV5SDVJwTg"
    },
    {
      "cell_type": "markdown",
      "source": [
        "From the above model results we can see that highest accuracy can be achieved by using Deep Learning Model specifically the CNN model which gives the accuracy of 98.73%.\n",
        "Therefore use of CNN model for classification is viable."
      ],
      "metadata": {
        "id": "UQmv-2nByz0H"
      },
      "id": "UQmv-2nByz0H"
    },
    {
      "cell_type": "markdown",
      "source": [
        "Testing"
      ],
      "metadata": {
        "id": "qwNcYFQ7J30L"
      },
      "id": "qwNcYFQ7J30L"
    },
    {
      "cell_type": "code",
      "execution_count": 47,
      "id": "87407973",
      "metadata": {
        "id": "87407973",
        "colab": {
          "base_uri": "https://localhost:8080/"
        },
        "outputId": "1569184f-d88b-4c87-86ed-804de9f3d740"
      },
      "outputs": [
        {
          "output_type": "stream",
          "name": "stdout",
          "text": [
            "313/313 [==============================] - 1s 3ms/step\n"
          ]
        },
        {
          "output_type": "execute_result",
          "data": {
            "text/plain": [
              "array([[1.3131256e-08, 9.7763973e-08, 7.1038919e-08, ..., 9.6351705e-08,\n",
              "        7.1379418e-08, 4.5632254e-07],\n",
              "       [1.2121878e-06, 1.8365869e-05, 4.0332279e-11, ..., 1.3324542e-12,\n",
              "        9.9998033e-01, 1.3443113e-07],\n",
              "       [3.7646879e-02, 4.9847149e-04, 2.6056464e-04, ..., 1.1154056e-05,\n",
              "        9.6101964e-01, 1.4526151e-04],\n",
              "       ...,\n",
              "       [1.2518205e-09, 1.2712496e-10, 1.5957550e-06, ..., 8.6129885e-06,\n",
              "        1.3133539e-09, 6.3013994e-09],\n",
              "       [1.7348721e-04, 9.9734372e-01, 2.7730896e-06, ..., 4.0153616e-05,\n",
              "        2.4775360e-04, 5.5668246e-05],\n",
              "       [1.2499132e-10, 1.5137711e-11, 1.0711246e-09, ..., 9.9971157e-01,\n",
              "        2.5915455e-12, 6.3951716e-10]], dtype=float32)"
            ]
          },
          "metadata": {},
          "execution_count": 47
        }
      ],
      "source": [
        "CNN.predict(x_test)"
      ]
    },
    {
      "cell_type": "code",
      "execution_count": 48,
      "id": "7a7f9666",
      "metadata": {
        "id": "7a7f9666",
        "colab": {
          "base_uri": "https://localhost:8080/"
        },
        "outputId": "92eb912f-6d51-4f5b-8e50-4aef7649046e"
      },
      "outputs": [
        {
          "output_type": "execute_result",
          "data": {
            "text/plain": [
              "array([3], dtype=uint8)"
            ]
          },
          "metadata": {},
          "execution_count": 48
        }
      ],
      "source": [
        "y_test[0]"
      ]
    },
    {
      "cell_type": "code",
      "execution_count": null,
      "id": "23168f61",
      "metadata": {
        "id": "23168f61"
      },
      "outputs": [],
      "source": []
    }
  ],
  "metadata": {
    "kernelspec": {
      "display_name": "Python 3 (ipykernel)",
      "language": "python",
      "name": "python3"
    },
    "language_info": {
      "codemirror_mode": {
        "name": "ipython",
        "version": 3
      },
      "file_extension": ".py",
      "mimetype": "text/x-python",
      "name": "python",
      "nbconvert_exporter": "python",
      "pygments_lexer": "ipython3",
      "version": "3.10.5"
    },
    "colab": {
      "provenance": [],
      "collapsed_sections": []
    },
    "accelerator": "GPU"
  },
  "nbformat": 4,
  "nbformat_minor": 5
}